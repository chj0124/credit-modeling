{
 "cells": [
  {
   "cell_type": "markdown",
   "metadata": {},
   "source": [
    "## Python 自动发送邮件&windows定时发送"
   ]
  },
  {
   "cell_type": "markdown",
   "metadata": {},
   "source": [
    "####  -  smtp协议：简单邮件传输协议，控制邮件从某个地方到另一个地方，python 内置smtp模块\n",
    "####  - MIME,多用途互联网邮件扩展类型, 当该某种扩展名文件被访问的时候，浏览器会自动使用指定应用程序来打开"
   ]
  },
  {
   "cell_type": "markdown",
   "metadata": {},
   "source": [
    "- smtplib 模块：主要负责发送邮件，连接服务器，登录邮箱，发送邮件\n",
    "- email模块：主要负责构造邮件内容，收件人，发送人，主题，正文，附件等"
   ]
  },
  {
   "cell_type": "code",
   "execution_count": 13,
   "metadata": {},
   "outputs": [
    {
     "data": {
      "image/png": "[encoded data removed]",
      "text/plain": [
       "<IPython.core.display.Image object>"
      ]
     },
     "execution_count": 13,
     "metadata": {},
     "output_type": "execute_result"
    }
   ],
   "source": []
  },
  {
   "cell_type": "markdown",
   "metadata": {},
   "source": [
    "#### smtplib模块"
   ]
  },
  {
   "cell_type": "code",
   "execution_count": null,
   "metadata": {},
   "outputs": [],
   "source": [
    "import smtplib \n",
    "\n",
    "smtp = smtplib.SMTP()\n",
    "\n",
    "smtp.connect(host,port)  #host： 服务器地址 举例：smtp.exmail.qq.com ,默认端口： 25\n",
    "\n",
    "  eq : smtp.connect('smtp.exmail.qq.com',\"25\")\n",
    "\n",
    "smtp.login(username,password) #登陆邮箱账号，注意登陆密码，一般要客户段密码，需要在网页获得授权码\n",
    "\n",
    "  eq : smtp.login('cdliubo@lixin360.com','E6yLk3UdaxA95D8V')\n",
    "\n",
    "smtp.sendmail(sender, receiver + copy,msg.as_string()) #发送邮件\n",
    "  eq : \n",
    "        FROM = 'cdliubo@lixin360.com' # sender \n",
    "        TO= 'cdliubo@lixin360.com' # receiver \n",
    "        CC = 'cdliubo@lixin360.com,cdliubo@lixin360.com' # copy\n",
    "        smtp.sendemail(FROM,TO.split(',') + CC.split(','),msg.as_string())\n",
    "        \n",
    "smtp.starttls() #加密传输邮件\n",
    "smtp.quit() #退出服务器"
   ]
  },
  {
   "cell_type": "markdown",
   "metadata": {},
   "source": [
    "#### email模块"
   ]
  },
  {
   "cell_type": "code",
   "execution_count": 4,
   "metadata": {},
   "outputs": [],
   "source": [
    "from email.header import Header # 邮件标题\n",
    "from email.mime.multipart import MIMEMultipart  # 邮件主体\n",
    "from email.mime.text import MIMEText  # 邮件文本内容\n",
    "from email.mime.image import MIMEImage # 邮件图片\n",
    "from email.mime.application import MIMEApplication # 邮件附件\n",
    "from email.utils import formataddr # 分隔标题与地址\n",
    "formataddr([Header('自定义发信昵称','utf-8'),FROM])"
   ]
  },
  {
   "cell_type": "markdown",
   "metadata": {},
   "source": [
    "* 邮件标题\n"
   ]
  },
  {
   "cell_type": "code",
   "execution_count": 14,
   "metadata": {},
   "outputs": [],
   "source": [
    "from email.header import Header # 邮件标题\n",
    "SUBJECT = Header(\"邮件自动发送\", 'utf-8').encode() # 通过Header对象编码的文本"
   ]
  },
  {
   "cell_type": "markdown",
   "metadata": {},
   "source": [
    "* 构造邮件对象"
   ]
  },
  {
   "cell_type": "code",
   "execution_count": null,
   "metadata": {},
   "outputs": [],
   "source": [
    "from email.mime.multipart import MIMEMultipart  # 邮件主体\n",
    "MIMEMultipart（）#构造邮件对象\n",
    "msg1 = MIMEMultipart('mixed')  #创建带附件的实例\n",
    "msg2 = MIMEMultipart('related')  #创建内嵌资源的实例，、\n",
    "msg3 = MIMEMultipart('alternative') #创建纯文本与超文本实例"
   ]
  },
  {
   "cell_type": "markdown",
   "metadata": {},
   "source": [
    "* 构造邮件内容——文本"
   ]
  },
  {
   "cell_type": "code",
   "execution_count": null,
   "metadata": {},
   "outputs": [],
   "source": [
    "from email.mime.text import MIMEText  # 邮件文本内容\n",
    "# 纯文本对象\n",
    "text = 'Just do it'\n",
    "text_plain = MIMEText(text,'Plain','utf-8') 邮件正文，文本类型， 编码格式"
   ]
  },
  {
   "cell_type": "code",
   "execution_count": null,
   "metadata": {},
   "outputs": [],
   "source": [
    "# html对象\n",
    "html = \"\"\" <font color=black> 各位好 : \n",
    "<br>\n",
    "<br>&nbsp&nbsp&nbsp&nbsp&nbsp&nbsp>> &nbsp数据详细如下：\n",
    "<br>\n",
    "<br>&nbsp&nbsp&nbsp&nbsp&nbsp&nbsp<img src=\\\"cid:pic1\\\" border=\\\"3\\\">\n",
    "<br>\n",
    "<br>\n",
    "<br>&nbsp&nbsp&nbsp&nbsp&nbsp&nbsp>> &nbsp当日情况如下：\n",
    "<br>&nbsp&nbsp&nbsp&nbsp&nbsp&nbsp<img src=\\\"cid:pic2\\\" border=\\\"3\\\">\n",
    "<br>\n",
    "<br>\n",
    "<br>&nbsp&nbsp&nbsp&nbsp&nbsp&nbsp以上，祝好！！</font>\n",
    "\"\"\"    \n",
    "text_html = MIMEText(html,'html','utf-8')\n",
    "\n",
    "msg2.attach(text_plain)\n",
    "msg2.attach(text_html)"
   ]
  },
  {
   "cell_type": "markdown",
   "metadata": {},
   "source": [
    "* 构造邮件内容——图片"
   ]
  },
  {
   "cell_type": "code",
   "execution_count": 15,
   "metadata": {},
   "outputs": [],
   "source": [
    "from email.mime.image import MIMEImage # 邮件图片\n",
    "sendimagefile=open('C:\\\\Users\\\\Administrator.HY3OX3VOYDNHDXM\\\\Desktop\\\\1.png','rb').read() #读取图片文件\n",
    "image = MIMEImage(sendimagefile) 图片对象\n",
    "image.add_header('Content-ID','pic1')#指定文件的Content-ID,<img>\n",
    "msg2.attach(image)"
   ]
  },
  {
   "cell_type": "markdown",
   "metadata": {},
   "source": [
    "* 构造邮件内容——附件"
   ]
  },
  {
   "cell_type": "code",
   "execution_count": null,
   "metadata": {},
   "outputs": [],
   "source": [
    "from email.mime.application import MIMEApplication # 邮件附件\n",
    "xlsxfile = '1.xlsx'\n",
    "csv = MIMEApplication(open('C:\\\\Users\\\\Administrator.HY3OX3VOYDNHDXM\\\\Desktop\\\\1.png','rb').read()) 附件对象\n",
    "csv.add_header('Content-Disposition', 'attachment', filename=('gbk', '', xlsxfile)) #附件标题\n",
    "msg.attach(csv)"
   ]
  },
  {
   "cell_type": "markdown",
   "metadata": {},
   "source": [
    "### 实例代码示例"
   ]
  },
  {
   "cell_type": "code",
   "execution_count": null,
   "metadata": {},
   "outputs": [],
   "source": [
    "# In[99] 发送邮件\n",
    "from email.header import Header\n",
    "from email.mime.multipart import MIMEMultipart  \n",
    "from email.mime.text import MIMEText  \n",
    "from email.mime.image import MIMEImage \n",
    "from email.mime.application import MIMEApplication\n",
    "from email.utils import formataddr\n",
    "import smtplib\n",
    "import datetime\n",
    "\n",
    "def addimg(src,imgid):  \n",
    "    fp = open(src, 'rb')  \n",
    "    msgImage = MIMEImage(fp.read())  \n",
    "    fp.close()  \n",
    "    msgImage.add_header('Content-ID', imgid)  \n",
    "    return msgImage  \n",
    "\n",
    "date = (datetime.date.today() + datetime.timedelta(days=-1)).strftime(\"%Y%m%d\")\n",
    "SUBJECT = Header('直销全流程监控' + now_time, 'utf-8').encode()  # 标题\n",
    "HOST = 'smtp.exmail.qq.com' \n",
    "FROM = 'cdliubo@lixin360.com'\n",
    "TO = 'cdliubo@lixin360.com'\n",
    "CC = 'cdliubo@lixin360.com,18801737494@163.com'\n",
    "msg = MIMEMultipart('related') \n",
    "##邮件内容 \n",
    "msgtext = MIMEText('''<font color=black> 各位好 : \n",
    "<br>\n",
    "<br>&nbsp&nbsp&nbsp&nbsp&nbsp&nbsp>> &nbsp直销41个分公司本月有效进件，全流程各个状态数量数据详细如下：\n",
    "<br>\n",
    "<br>&nbsp&nbsp&nbsp&nbsp&nbsp&nbsp<img src=\\\"cid:pic1\\\" border=\\\"3\\\">\n",
    "<br>\n",
    "<br>\n",
    "<br>&nbsp&nbsp&nbsp&nbsp&nbsp&nbsp>> &nbsp利薪方案、(新)利菁方案审批环节，档位通过率本月以及当日情况如下：\n",
    "<br>&nbsp&nbsp&nbsp&nbsp&nbsp&nbsp<img src=\\\"cid:pic2\\\" border=\\\"3\\\">\n",
    "<br>\n",
    "<br>\n",
    "<br>&nbsp&nbsp&nbsp&nbsp&nbsp&nbsp以上，祝好！！</font>''',\"html\",\"utf-8\")  \n",
    "msg.attach(msgtext)  \n",
    "\n",
    "#添加图片\n",
    "msg.attach(addimg(load + now_time + \".png\",\"pic1\"))  \n",
    "msg.attach(addimg('E:\\\\project\\\\zhixiao_day_data\\\\档位通过率' + now_time + \".png\",\"pic2\"))  \n",
    "\n",
    "#添加附件\n",
    "csvFile = '直销全流程监控' + now_time + '.xlsx'\n",
    "csv = MIMEApplication(open(load + now_time + '.xlsx','rb').read())\n",
    "csv.add_header('Content-Disposition', 'attachment', filename=('gbk', '', csvFile))\n",
    "msg.attach(csv)\n",
    "\n",
    "msg['Subject'] = SUBJECT  \n",
    "msg['From']=FROM  \n",
    "msg['To']=TO  \n",
    "msg['Cc']=CC\n",
    "server = smtplib.SMTP()  \n",
    "server.connect(HOST,\"25\")  \n",
    "server.starttls()  \n",
    "server.login('cdliubo@lixin360.com','E6yLk3UdaxA95D8V')   \n",
    "server.sendmail(FROM, TO.split(',') + CC.split(','), msg.as_string())  \n",
    "server.quit()  "
   ]
  }
 ],
 "metadata": {
  "kernelspec": {
   "display_name": "Python 3",
   "language": "python",
   "name": "python3"
  },
  "language_info": {
   "codemirror_mode": {
    "name": "ipython",
    "version": 3
   },
   "file_extension": ".py",
   "mimetype": "text/x-python",
   "name": "python",
   "nbconvert_exporter": "python",
   "pygments_lexer": "ipython3",
   "version": "3.6.7"
  }
 },
 "nbformat": 4,
 "nbformat_minor": 2
}
